{
  "cells": [
    {
      "cell_type": "markdown",
      "metadata": {
        "colab_type": "text",
        "id": "view-in-github"
      },
      "source": [
        "<a href=\"https://colab.research.google.com/github/jayun1218/ktcloud_genai/blob/main/Test.ipynb\" target=\"_parent\"><img src=\"https://colab.research.google.com/assets/colab-badge.svg\" alt=\"Open In Colab\"/></a>"
      ]
    },
    {
      "cell_type": "code",
      "execution_count": null,
      "metadata": {
        "colab": {
          "base_uri": "https://localhost:8080/",
          "height": 35
        },
        "id": "AUGqVP3uiuhJ",
        "outputId": "5d62ce4b-2a34-4145-b9e9-a2e844020d0e"
      },
      "outputs": [
        {
          "data": {
            "application/vnd.google.colaboratory.intrinsic+json": {
              "type": "string"
            },
            "text/plain": [
              "'/usr/bin/python3'"
            ]
          },
          "execution_count": 1,
          "metadata": {},
          "output_type": "execute_result"
        }
      ],
      "source": [
        "import sys\n",
        "\n",
        "sys.executable"
      ]
    },
    {
      "cell_type": "code",
      "execution_count": null,
      "metadata": {
        "colab": {
          "base_uri": "https://localhost:8080/"
        },
        "id": "YRdBxZDHjAwY",
        "outputId": "50bde5c5-d5da-413d-bdbb-47b5ea94df9e"
      },
      "outputs": [
        {
          "name": "stdout",
          "output_type": "stream",
          "text": [
            "['/content', '/env/python', '/usr/lib/python312.zip', '/usr/lib/python3.12', '/usr/lib/python3.12/lib-dynload', '', '/usr/local/lib/python3.12/dist-packages', '/usr/lib/python3/dist-packages', '/usr/local/lib/python3.12/dist-packages/IPython/extensions', '/root/.ipython']\n"
          ]
        }
      ],
      "source": [
        "print(sys.path)"
      ]
    },
    {
      "cell_type": "code",
      "execution_count": null,
      "metadata": {
        "colab": {
          "base_uri": "https://localhost:8080/"
        },
        "id": "eFZWrh95jUoL",
        "outputId": "9d023a5b-e7e6-407d-c499-e28f66d23bd0"
      },
      "outputs": [
        {
          "name": "stdout",
          "output_type": "stream",
          "text": [
            "Python 3.12.11\n"
          ]
        }
      ],
      "source": [
        "!python --version"
      ]
    },
    {
      "cell_type": "markdown",
      "metadata": {},
      "source": [
        "1. 변수와 자료형"
      ]
    },
    {
      "cell_type": "code",
      "execution_count": null,
      "metadata": {},
      "outputs": [],
      "source": [
        "# 숫자, 문자열, 불리언\n",
        "a = 10\n",
        "b = 3.14\n",
        "c = \"Hello Python\"\n",
        "d = True\n",
        "\n",
        "print(a, type(a))\n",
        "print(b, type(b))\n",
        "print(c, type(c))\n",
        "print(d, type(d))"
      ]
    },
    {
      "cell_type": "markdown",
      "metadata": {},
      "source": [
        "2. 기본 연산자"
      ]
    },
    {
      "cell_type": "code",
      "execution_count": null,
      "metadata": {},
      "outputs": [],
      "source": [
        "x, y = 7, 3\n",
        "print(x + y)   # 덧셈\n",
        "print(x - y)   # 뺄셈\n",
        "print(x * y)   # 곱셈\n",
        "print(x / y)   # 나눗셈(실수)\n",
        "print(x // y)  # 몫\n",
        "print(x % y)   # 나머지\n",
        "print(x ** y)  # 거듭제곱\n"
      ]
    },
    {
      "cell_type": "markdown",
      "metadata": {},
      "source": [
        "3. 조건문"
      ]
    },
    {
      "cell_type": "code",
      "execution_count": null,
      "metadata": {},
      "outputs": [],
      "source": [
        "age = 20\n",
        "if age >= 18:\n",
        "    print(\"성인입니다.\")\n",
        "else:\n",
        "    print(\"미성년자입니다.\")"
      ]
    },
    {
      "cell_type": "markdown",
      "metadata": {},
      "source": [
        "4. 반복문"
      ]
    },
    {
      "cell_type": "code",
      "execution_count": null,
      "metadata": {},
      "outputs": [],
      "source": [
        "# 1부터 5까지 출력\n",
        "for i in range(1, 6):\n",
        "    print(i)"
      ]
    },
    {
      "cell_type": "markdown",
      "metadata": {},
      "source": [
        "5. 반복문"
      ]
    },
    {
      "cell_type": "code",
      "execution_count": null,
      "metadata": {},
      "outputs": [],
      "source": [
        "count = 3\n",
        "while count > 0:\n",
        "    print(\"카운트:\", count)\n",
        "    count -= 1"
      ]
    },
    {
      "cell_type": "markdown",
      "metadata": {},
      "source": [
        "6. 리스트 - 배열역할"
      ]
    },
    {
      "cell_type": "code",
      "execution_count": null,
      "metadata": {},
      "outputs": [],
      "source": [
        "fruits = [\"사과\", \"바나나\", \"포도\"]\n",
        "print(fruits[0])    # 첫 번째 요소\n",
        "fruits.append(\"오렌지\")  # 추가\n",
        "print(fruits)"
      ]
    },
    {
      "cell_type": "markdown",
      "metadata": {},
      "source": [
        "7. 딕셔너리"
      ]
    },
    {
      "cell_type": "code",
      "execution_count": null,
      "metadata": {},
      "outputs": [],
      "source": [
        "person = {\"name\": \"홍길동\", \"age\": 25}\n",
        "print(person[\"name\"])\n",
        "print(person[\"age\"])\n",
        "person[\"job\"] = \"개발자\"  # 새로운 키 추가\n",
        "print(person)\n"
      ]
    },
    {
      "cell_type": "markdown",
      "metadata": {},
      "source": [
        "8. 함수 정의와 호출"
      ]
    },
    {
      "cell_type": "code",
      "execution_count": null,
      "metadata": {},
      "outputs": [],
      "source": [
        "def greet(name):\n",
        "    return f\"안녕하세요, {name}!\"\n",
        "\n",
        "print(greet(\"자윤\"))"
      ]
    },
    {
      "cell_type": "markdown",
      "metadata": {},
      "source": [
        "9. 클래스와 객체"
      ]
    },
    {
      "cell_type": "code",
      "execution_count": null,
      "metadata": {},
      "outputs": [],
      "source": [
        "class Person:\n",
        "    def __init__(self, name):\n",
        "        self.name = name\n",
        "    \n",
        "    def say_hello(self):\n",
        "        print(f\"안녕하세요, 저는 {self.name}입니다.\")\n",
        "\n",
        "p1 = Person(\"자윤\")\n",
        "p1.say_hello()"
      ]
    },
    {
      "cell_type": "markdown",
      "metadata": {},
      "source": [
        "10. 예외처리"
      ]
    },
    {
      "cell_type": "code",
      "execution_count": null,
      "metadata": {},
      "outputs": [],
      "source": [
        "try:\n",
        "    num = int(\"10a\")  # 숫자로 변환 시도 (오류 발생)\n",
        "except ValueError:\n",
        "    print(\"변환할 수 없는 값입니다.\")"
      ]
    }
  ],
  "metadata": {
    "colab": {
      "authorship_tag": "ABX9TyNkVEsNsdjg+DpaGRlDRdzV",
      "include_colab_link": true,
      "provenance": []
    },
    "kernelspec": {
      "display_name": "Python 3",
      "name": "python3"
    },
    "language_info": {
      "name": "python"
    }
  },
  "nbformat": 4,
  "nbformat_minor": 0
}
